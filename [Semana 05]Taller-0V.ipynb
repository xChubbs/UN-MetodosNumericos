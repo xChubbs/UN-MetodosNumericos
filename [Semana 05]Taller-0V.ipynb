{
 "cells": [
  {
   "attachments": {},
   "cell_type": "markdown",
   "metadata": {},
   "source": [
    "# Taller 05: Metodo de Newton para sistemas de ecuaciones no lineales\n",
    "## Métodos Numéricos\n",
    "\n",
    "Verifiquemos los resultados que obtuvimos de MATLAB, creando la función equivalente en python & veamos lo diferente que es trabajar en este entorno\n",
    "\n"
   ]
  },
  {
   "cell_type": "code",
   "execution_count": 1,
   "metadata": {},
   "outputs": [],
   "source": [
    "# Importación de librerias\n",
    "import numpy as np\n",
    "import numpy.linalg as al"
   ]
  },
  {
   "attachments": {},
   "cell_type": "markdown",
   "metadata": {},
   "source": [
    "Vamos directamente a definir la función empleando una traducción de MATLAB a python.\n",
    "\n",
    "*Esta es la primera vez que desarrollamos esto, por lo que esta abracción puede ser útil para próximos métodos y el trabajo en este ecosistema.*"
   ]
  },
  {
   "cell_type": "code",
   "execution_count": 14,
   "metadata": {},
   "outputs": [],
   "source": [
    "def newdim(F, JF, P, delta, epsilon, max1):\n",
    "\n",
    "    \"\"\"\n",
    "    Entrada  - F funcion del sistema creada con @\n",
    "               JF matriz jacobiana, funcion creada con @\n",
    "             - P es la aproximacion inicial a la solucion\n",
    "             - delta es la tolerancia para  P\n",
    "             - epsilon es la tolerancia para  F(P)\n",
    "             - max1 es el numero maximo de iteraciones\n",
    "    Salida   - P es la aproximacion a la solucion\n",
    "             - iter es el numero de iteraciones realizadas\n",
    "             - err es el error estimado para  P\n",
    "\n",
    "    METODOS NUMERICOS: Programas en Matlab\n",
    "    (c) 2004 por John H. Mathews y Kurtis D. Fink\n",
    "    Software complementario acompa�ando al texto:\n",
    "    METODOS NUMERICOS con Matlab, Cuarta Edicion\n",
    "    ISBN: 0-13-065248-2\n",
    "    Prentice-Hall Pub. Inc.\n",
    "    One Lake Street\n",
    "    Upper Saddle River, NJ 07458\n",
    "    \"\"\"\n",
    "\n",
    "    Y = F(P)\n",
    "\n",
    "    for iter in range(1, max1 +1):\n",
    "\n",
    "        J = JF(P)\n",
    "\n",
    "        Q = P - (al.inv(J) @ Y.T).T\n",
    "\n",
    "        Z = F(Q)\n",
    "\n",
    "        err = al.norm(Q - P)\n",
    "        relerr = err / (al.norm(Q) + delta)\n",
    "\n",
    "        P = Q\n",
    "        Y = Z\n",
    "\n",
    "        if (err < delta)  or (relerr < delta) or (abs(Y).any() < epsilon):\n",
    "            break\n",
    "    \n",
    "    return P, iter, err\n"
   ]
  },
  {
   "attachments": {},
   "cell_type": "markdown",
   "metadata": {},
   "source": [
    "Empleemos la rutina que realizamos con los valores de referencia que obtuvimos en MATLAB"
   ]
  },
  {
   "cell_type": "code",
   "execution_count": 24,
   "metadata": {},
   "outputs": [],
   "source": [
    "# Definimos el sistema de ecuaciones\n",
    "f1 = lambda x, y : np.log(x + y + 20) + np.exp(x * y) -15\n",
    "f2 = lambda x, y : np.arctan(x + 6) - 10 * y * np.sin(x) -4\n",
    "\n",
    "# Vectorizamos el sistemay generamos un función vectorial para un sistema F(X) = 0\n",
    "F = lambda X : np.array([f1(X[0], X[1]), f2(X[0], X[1])])\n",
    "\n",
    "# Definimos el jacobiano empleando la definición tradicional de función\n",
    "def JF(X):\n",
    "\n",
    "    row_1 = lambda X : np.array([X[1] * np.exp(X[0] * X[1]) + 1 / (X[1] + X[0] + 20),\n",
    "                                 X[0] * np.exp(X[0] * X[1]) + 1 / (X[1] + X[0] + 20)])\n",
    "    row_2 = lambda X : np.array([1/((X[0] + 6)**2 + 1) - 10 * X[1] * np.cos(X[0]),\n",
    "                                 -10 * np.sin(X[0])])\n",
    "    \n",
    "    return np.array([row_1(X), row_2(X)])"
   ]
  },
  {
   "cell_type": "code",
   "execution_count": 25,
   "metadata": {},
   "outputs": [
    {
     "name": "stdout",
     "output_type": "stream",
     "text": [
      "[-3.5525845  -0.70512253] 13 1.1102230246251565e-16\n"
     ]
    }
   ],
   "source": [
    "# Propongamos las mismas condiciones que empleamos en MATLAB para verificar.\n",
    "X0 = np.array([-6, 0])\n",
    "X, iter, err = newdim(F, JF, X0, 1e-10, 1e-10, 100)\n",
    "\n",
    "# Verifiquemos valores\n",
    "print(X, iter, err)"
   ]
  }
 ],
 "metadata": {
  "kernelspec": {
   "display_name": "Python 3",
   "language": "python",
   "name": "python3"
  },
  "language_info": {
   "codemirror_mode": {
    "name": "ipython",
    "version": 3
   },
   "file_extension": ".py",
   "mimetype": "text/x-python",
   "name": "python",
   "nbconvert_exporter": "python",
   "pygments_lexer": "ipython3",
   "version": "3.11.2"
  },
  "orig_nbformat": 4,
  "vscode": {
   "interpreter": {
    "hash": "f842b7c9fc4488d750fc59e32cd6eaf693cb529c1360390aefdc7720cc6bd6de"
   }
  }
 },
 "nbformat": 4,
 "nbformat_minor": 2
}
