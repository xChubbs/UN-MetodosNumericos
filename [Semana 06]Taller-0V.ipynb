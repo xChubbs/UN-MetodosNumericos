{
 "cells": [
  {
   "attachments": {},
   "cell_type": "markdown",
   "metadata": {},
   "source": [
    "# Taller 06: Aproximación e Interpolación Polinomial\n",
    "## Métodos Numéricos\n",
    "\n",
    "Verifiquemos los resultados que obtuvimos de MATLAB, creando la función equivalente en python & veamos lo diferente que es trabajar en este entorno\n",
    "\n"
   ]
  },
  {
   "cell_type": "code",
   "execution_count": 1,
   "metadata": {},
   "outputs": [],
   "source": [
    "# Importación de librerias\n",
    "import numpy as np\n",
    "import numpy.linalg as al"
   ]
  },
  {
   "attachments": {},
   "cell_type": "markdown",
   "metadata": {},
   "source": [
    "Vamos directamente a definir la función empleando una traducción de MATLAB a python.\n",
    "\n",
    "*Esta es la primera vez que desarrollamos esto, por lo que esta abracción puede ser útil para próximos métodos y el trabajo en este ecosistema.*"
   ]
  },
  {
   "cell_type": "code",
   "execution_count": 48,
   "metadata": {},
   "outputs": [],
   "source": [
    "def lagran (X, Y):\n",
    "\n",
    "# Entrada  - X es un vector que contiene una lista de las abscisas\n",
    "#          - Y es un vector que contiene una lista de las ordenadas\n",
    "# Salida   - C vector que contiene los coeficientes del polinomio\n",
    "#          - L es una matriz que contiene los coeficientes de los\n",
    "#            polinomios de Lagrange\n",
    "\n",
    "#   METODOS NUMERICOS: Programas en Matlab\n",
    "#   (c) 2004 por John H. Mathews y Kurtis D. Fink\n",
    "#   Software complementario acompañando al texto:\n",
    "#   METODOS NUMERICOS con Matlab, Cuarta Edicion\n",
    "#   ISBN: 0-13-065248-2\n",
    "#   Prentice-Hall Pub. Inc.\n",
    "#   One Lake Street\n",
    "#   Upper Saddle River, NJ 07458\n",
    "\n",
    "    w = len(X)\n",
    "    n = w - 1\n",
    "    L = np.zeros((w, w))\n",
    "\n",
    "    # Formar los polinomios coeficientes de Lagrange\n",
    "\n",
    "    for k in range(n +1):\n",
    "\n",
    "        V = 1\n",
    "\n",
    "        for j in range(n +1):\n",
    "\n",
    "            if k != j:\n",
    "\n",
    "                temp = np.poly([X[j]])\n",
    "                V = np.convolve(V, temp) / (X[k] - X[j])\n",
    "\n",
    "        L[k, :] = V\n",
    "\n",
    "    # Determinar los coeficientes del polinomio interpolador de Lagrange\n",
    "\n",
    "    C = Y @ L\n",
    "   \n",
    "    return C, L"
   ]
  },
  {
   "attachments": {},
   "cell_type": "markdown",
   "metadata": {},
   "source": [
    "Empleemos la rutina que realizamos con los valores de referencia que obtuvimos en MATLAB"
   ]
  },
  {
   "cell_type": "code",
   "execution_count": 65,
   "metadata": {},
   "outputs": [
    {
     "name": "stdout",
     "output_type": "stream",
     "text": [
      "El polinomio interpolante resultante es:\n",
      " 0.0115x^3 + -0.0952x^2 +  0.2746x +  0.2876\n",
      "\n",
      " El polinomio de lagran L2 es:\n",
      " 0.0271x^3 + -0.1274x^2 + -0.2375x +  0.9290\n",
      "\n",
      " El resultado de evaluar el polinomio en x = 3.8 es:  0.5868\n"
     ]
    }
   ],
   "source": [
    "# Definimos la función de referencia\n",
    "f = lambda x : (x**3 + np.sin(x)) / (np.exp(x) + 15)\n",
    "\n",
    "# Definimos los vectores de abcisas (X) & ordenadas (Y)\n",
    "X = np.array([-2.8, -1.1, 2.4, 5.1])\n",
    "Y = f(X)\n",
    "\n",
    "# Aplicamos el método creado\n",
    "C, L = lagran(X, Y)\n",
    "\n",
    "# Imprimimos los resultados para comparar\n",
    "print(\"El polinomio interpolante resultante es:\")\n",
    "print(f\"{C[0]: .4f}x^3 + {C[1]: .4f}x^2 + {C[2]: .4f}x + {C[3]: .4f}\\n\")\n",
    "print( f\" El polinomio de lagran L2 es:\")\n",
    "print(f\"{L[1][0]: .4f}x^3 + {L[1][1]: .4f}x^2 + {L[1][2]: .4f}x + {L[1][3]: .4f}\\n\")\n",
    "print( f\" El resultado de evaluar el polinomio en x = 3.8 es: {np.polyval(C, 3.8): .4f}\")"
   ]
  },
  {
   "attachments": {},
   "cell_type": "markdown",
   "metadata": {},
   "source": [
    "## Actividad: Haz tu propio código\n",
    "Completa el código asociado al método de SOR, y verifica los resultados que obtuvimos en matlab tomando omega como 1, que es el caso en que SOR es equivalente al método Gauss-Seidel"
   ]
  },
  {
   "cell_type": "code",
   "execution_count": null,
   "metadata": {},
   "outputs": [],
   "source": [
    "def lagran (X, Y):\n",
    "\n",
    "# Entrada  - X es un vector que contiene una lista de las abscisas\n",
    "#          - Y es un vector que contiene una lista de las ordenadas\n",
    "# Salida   - C vector que contiene los coeficientes del polinomio\n",
    "#          - D es la tabla de diferencias divididas\n",
    "\n",
    "#   METODOS NUMERICOS: Programas en Matlab\n",
    "#   (c) 2004 por John H. Mathews y Kurtis D. Fink\n",
    "#   Software complementario acompañando al texto:\n",
    "#   METODOS NUMERICOS con Matlab, Cuarta Edicion\n",
    "#   ISBN: 0-13-065248-2\n",
    "#   Prentice-Hall Pub. Inc.\n",
    "#   One Lake Street\n",
    "#   Upper Saddle River, NJ 07458\n",
    "\n",
    "    n = len(X)\n",
    "    D = np.zeros((n, n))\n",
    "    D[:, 1] = Y\n",
    "\n",
    "    # --- Tú código aquí! --- #\n",
    "   \n",
    "    return C, D"
   ]
  }
 ],
 "metadata": {
  "kernelspec": {
   "display_name": "Python 3",
   "language": "python",
   "name": "python3"
  },
  "language_info": {
   "codemirror_mode": {
    "name": "ipython",
    "version": 3
   },
   "file_extension": ".py",
   "mimetype": "text/x-python",
   "name": "python",
   "nbconvert_exporter": "python",
   "pygments_lexer": "ipython3",
   "version": "3.11.2"
  },
  "orig_nbformat": 4,
  "vscode": {
   "interpreter": {
    "hash": "f842b7c9fc4488d750fc59e32cd6eaf693cb529c1360390aefdc7720cc6bd6de"
   }
  }
 },
 "nbformat": 4,
 "nbformat_minor": 2
}
