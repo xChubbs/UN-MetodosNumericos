{
 "cells": [
  {
   "attachments": {},
   "cell_type": "markdown",
   "metadata": {},
   "source": [
    "# Taller 07: Repaso de MATLAB\n",
    "## Métodos Numéricos\n",
    "\n",
    "Hagamos un pequeño review de lo que hemos visto en MATLAB\n",
    "\n",
    "\n"
   ]
  },
  {
   "attachments": {},
   "cell_type": "markdown",
   "metadata": {},
   "source": [
    "- Importación de librerias y funciones que vamos a utilizar, el archivo a `rutinas_MN.py` lo importamos como una lista de funciones y de aquí saldran todas las rutinas que tenemos:"
   ]
  },
  {
   "cell_type": "code",
   "execution_count": 2,
   "metadata": {},
   "outputs": [],
   "source": [
    "# importanción de libreria propia\n",
    "import rutinas_MN as mn"
   ]
  },
  {
   "cell_type": "code",
   "execution_count": 7,
   "metadata": {},
   "outputs": [],
   "source": [
    "# Importación de librerias\n",
    "import numpy as np\n",
    "import numpy.linalg as al"
   ]
  },
  {
   "attachments": {},
   "cell_type": "markdown",
   "metadata": {},
   "source": [
    "- Hablemos de variables y asignar valores, definimos algo asi:"
   ]
  },
  {
   "cell_type": "code",
   "execution_count": 3,
   "metadata": {},
   "outputs": [],
   "source": [
    "x = 10\n",
    "y = [1, 2, 3]\n",
    "z = 69.420"
   ]
  },
  {
   "attachments": {},
   "cell_type": "markdown",
   "metadata": {},
   "source": [
    "¿Qué representa cada cosa?"
   ]
  },
  {
   "cell_type": "code",
   "execution_count": 5,
   "metadata": {},
   "outputs": [
    {
     "data": {
      "text/plain": [
       "(int, list, float)"
      ]
     },
     "execution_count": 5,
     "metadata": {},
     "output_type": "execute_result"
    }
   ],
   "source": [
    "type(x), type(y), type(z)"
   ]
  },
  {
   "attachments": {},
   "cell_type": "markdown",
   "metadata": {},
   "source": [
    "- Los `int` & `float` son números que podemos operar, en cambio las `list` son arreglos (MUY DISTINTO DE LOS ARRAYS, QUE SON VECTORES) "
   ]
  },
  {
   "cell_type": "code",
   "execution_count": 9,
   "metadata": {},
   "outputs": [
    {
     "data": {
      "text/plain": [
       "numpy.ndarray"
      ]
     },
     "execution_count": 9,
     "metadata": {},
     "output_type": "execute_result"
    }
   ],
   "source": [
    "# Los vectores los importamos de librerias como NUMPY\n",
    "vector = np.array([1, 2, 3])\n",
    "\n",
    "type(vector)"
   ]
  },
  {
   "attachments": {},
   "cell_type": "markdown",
   "metadata": {},
   "source": [
    "Estos los sabemos operar, y estas son nuestras operaciones:"
   ]
  },
  {
   "cell_type": "code",
   "execution_count": 12,
   "metadata": {},
   "outputs": [
    {
     "name": "stdout",
     "output_type": "stream",
     "text": [
      "Resultado suma: 5\n",
      "\n",
      "Resultado resta: -1\n",
      "\n",
      "Resultado multiplicacion: 6\n",
      "\n",
      "Resultado division: 0.6666666666666666\n",
      "\n"
     ]
    }
   ],
   "source": [
    "# Hagamos una lista de números, y operemoslos entre sí,\n",
    "# luego revisaremos como se comporta números\n",
    "numeros = [1, 2, 3]\n",
    "\n",
    "suma = numeros[1] + numeros[2]\n",
    "resta = numeros[1] - numeros[2]\n",
    "multiplicacion = numeros[1] * numeros[2]\n",
    "division = numeros[1] / numeros[2]\n",
    "\n",
    "print(f\"Resultado suma: {suma}\\n\")\n",
    "print(f\"Resultado resta: {resta}\\n\")\n",
    "print(f\"Resultado multiplicacion: {multiplicacion}\\n\")\n",
    "print(f\"Resultado division: {division}\\n\")\n",
    "\n",
    "# Esto no lo podemos hacer con listas"
   ]
  },
  {
   "cell_type": "code",
   "execution_count": 14,
   "metadata": {},
   "outputs": [
    {
     "name": "stdout",
     "output_type": "stream",
     "text": [
      "Resultado suma: [1, 2, 3, 1.2, 2.4, 1.0]\n",
      "\n"
     ]
    }
   ],
   "source": [
    "# Con listas no resulta igual\n",
    "flotantes = [1.2, 2.4, 1.0]\n",
    "\n",
    "suma = numeros + flotantes\n",
    "\n",
    "print(f\"Resultado suma: {suma}\\n\")"
   ]
  },
  {
   "cell_type": "code",
   "execution_count": 18,
   "metadata": {},
   "outputs": [
    {
     "name": "stdout",
     "output_type": "stream",
     "text": [
      "Resultado suma: [2.2 4.4 4. ]\n",
      "\n",
      "Resultado resta: [-0.2 -0.4  2. ]\n",
      "\n",
      "Resultado multiplicacion: [1.2 4.8 3. ]\n",
      "\n",
      "Resultado division: [0.83333333 0.83333333 3.        ]\n",
      "\n"
     ]
    }
   ],
   "source": [
    "# Pero si usamos vectores\n",
    "numeros = np.array(numeros)\n",
    "flotantes = np.array(flotantes)\n",
    "\n",
    "suma = numeros + flotantes\n",
    "resta = numeros - flotantes\n",
    "multiplicacion = numeros * flotantes\n",
    "division = numeros / flotantes\n",
    "\n",
    "print(f\"Resultado suma: {suma}\\n\")\n",
    "print(f\"Resultado resta: {resta}\\n\")\n",
    "print(f\"Resultado multiplicacion: {multiplicacion}\\n\")\n",
    "print(f\"Resultado division: {division}\\n\")"
   ]
  },
  {
   "attachments": {},
   "cell_type": "markdown",
   "metadata": {},
   "source": [
    "- Vamos directamente a definir la función empleando una traducción de MATLAB a python. Idealmente esta carga estructura `def function_name( *Arguments)` y tras los `:` podemos ya describir, con la identación correcta la función"
   ]
  },
  {
   "cell_type": "code",
   "execution_count": 21,
   "metadata": {},
   "outputs": [],
   "source": [
    "# Ejemplo de una función definida\n",
    "\n",
    "def lagran (X, Y):\n",
    "\n",
    "# Entrada  - X es un vector que contiene una lista de las abscisas\n",
    "#          - Y es un vector que contiene una lista de las ordenadas\n",
    "# Salida   - C vector que contiene los coeficientes del polinomio\n",
    "#          - L es una matriz que contiene los coeficientes de los\n",
    "#            polinomios de Lagrange\n",
    "\n",
    "#   METODOS NUMERICOS: Programas en Matlab\n",
    "#   (c) 2004 por John H. Mathews y Kurtis D. Fink\n",
    "#   Software complementario acompañando al texto:\n",
    "#   METODOS NUMERICOS con Matlab, Cuarta Edicion\n",
    "#   ISBN: 0-13-065248-2\n",
    "#   Prentice-Hall Pub. Inc.\n",
    "#   One Lake Street\n",
    "#   Upper Saddle River, NJ 07458\n",
    "\n",
    "    w = len(X)\n",
    "    n = w - 1\n",
    "    L = np.zeros((w, w))\n",
    "\n",
    "    # Formar los polinomios coeficientes de Lagrange\n",
    "\n",
    "    for k in range(n +1):\n",
    "\n",
    "        V = 1\n",
    "\n",
    "        for j in range(n +1):\n",
    "\n",
    "            if k != j:\n",
    "\n",
    "                temp = np.poly([X[j]])\n",
    "                V = np.convolve(V, temp) / (X[k] - X[j])\n",
    "\n",
    "        L[k, :] = V\n",
    "\n",
    "    # Determinar los coeficientes del polinomio interpolador de Lagrange\n",
    "\n",
    "    C = Y @ L\n",
    "   \n",
    "    return C, L"
   ]
  },
  {
   "attachments": {},
   "cell_type": "markdown",
   "metadata": {},
   "source": [
    "Ya despues de crear la función la podemos usar como haríamos tradicionalmente en MATLAB, y como hemos hecho durante estos talleres."
   ]
  },
  {
   "cell_type": "code",
   "execution_count": 22,
   "metadata": {},
   "outputs": [
    {
     "name": "stdout",
     "output_type": "stream",
     "text": [
      "El polinomio interpolante resultante es:\n",
      " 0.0115x^3 + -0.0952x^2 +  0.2746x +  0.2876\n",
      "\n",
      " El polinomio de lagran L2 es:\n",
      " 0.0271x^3 + -0.1274x^2 + -0.2375x +  0.9290\n",
      "\n",
      " El resultado de evaluar el polinomio en x = 3.8 es:  0.5868\n"
     ]
    }
   ],
   "source": [
    "# Definimos la función de referencia\n",
    "f = lambda x : (x**3 + np.sin(x)) / (np.exp(x) + 15)\n",
    "\n",
    "# Definimos los vectores de abcisas (X) & ordenadas (Y)\n",
    "X = np.array([-2.8, -1.1, 2.4, 5.1])\n",
    "Y = f(X)\n",
    "\n",
    "# Aplicamos el método creado\n",
    "C, L = lagran(X, Y)\n",
    "\n",
    "# Imprimimos los resultados para comparar\n",
    "print(\"El polinomio interpolante resultante es:\")\n",
    "print(f\"{C[0]: .4f}x^3 + {C[1]: .4f}x^2 + {C[2]: .4f}x + {C[3]: .4f}\\n\")\n",
    "print( f\" El polinomio de lagran L2 es:\")\n",
    "print(f\"{L[1][0]: .4f}x^3 + {L[1][1]: .4f}x^2 + {L[1][2]: .4f}x + {L[1][3]: .4f}\\n\")\n",
    "print( f\" El resultado de evaluar el polinomio en x = 3.8 es: {np.polyval(C, 3.8): .4f}\")"
   ]
  },
  {
   "attachments": {},
   "cell_type": "markdown",
   "metadata": {},
   "source": [
    "- Y si queremos definir funciones más prácticas para nuestro contexto, podemos emplear funciones *LAMBDA*"
   ]
  },
  {
   "cell_type": "code",
   "execution_count": 24,
   "metadata": {},
   "outputs": [
    {
     "name": "stdout",
     "output_type": "stream",
     "text": [
      "[-3.5525845  -0.70512253] 13 1.1102230246251565e-16\n"
     ]
    }
   ],
   "source": [
    "# Definimos el sistema de ecuaciones\n",
    "f1 = lambda x, y : np.log(x + y + 20) + np.exp(x * y) -15\n",
    "f2 = lambda x, y : np.arctan(x + 6) - 10 * y * np.sin(x) -4\n",
    "\n",
    "# Vectorizamos el sistemay generamos un función vectorial para un sistema F(X) = 0\n",
    "F = lambda X : np.array([f1(X[0], X[1]), f2(X[0], X[1])])\n",
    "\n",
    "# Definimos el jacobiano empleando la definición tradicional de función\n",
    "def JF(X):\n",
    "\n",
    "    row_1 = lambda X : np.array([X[1] * np.exp(X[0] * X[1]) + 1 / (X[1] + X[0] + 20),\n",
    "                                 X[0] * np.exp(X[0] * X[1]) + 1 / (X[1] + X[0] + 20)])\n",
    "    row_2 = lambda X : np.array([1/((X[0] + 6)**2 + 1) - 10 * X[1] * np.cos(X[0]),\n",
    "                                 -10 * np.sin(X[0])])\n",
    "    \n",
    "    return np.array([row_1(X), row_2(X)])\n",
    "\n",
    "# Propongamos las mismas condiciones que empleamos en MATLAB para verificar.\n",
    "X0 = np.array([-6, 0])\n",
    "X, iter, err = mn.newdim(F, JF, X0, 1e-10, 1e-10, 100) # <----- Linea importante, importamos la rutina de rutinas_MN\n",
    "\n",
    "# Verifiquemos valores\n",
    "print(X, iter, err)"
   ]
  },
  {
   "attachments": {},
   "cell_type": "markdown",
   "metadata": {},
   "source": [
    "## Actividad: Haz tu propio código\n",
    "Completa el código asociado al método de SOR, y verifica los resultados que obtuvimos en matlab tomando omega como 1, que es el caso en que SOR es equivalente al método Gauss-Seidel"
   ]
  },
  {
   "cell_type": "code",
   "execution_count": 4,
   "metadata": {},
   "outputs": [],
   "source": [
    "def lagran (X, Y):\n",
    "\n",
    "# Entrada  - X es un vector que contiene una lista de las abscisas\n",
    "#          - Y es un vector que contiene una lista de las ordenadas\n",
    "# Salida   - C vector que contiene los coeficientes del polinomio\n",
    "#          - D es la tabla de diferencias divididas\n",
    "\n",
    "#   METODOS NUMERICOS: Programas en Matlab\n",
    "#   (c) 2004 por John H. Mathews y Kurtis D. Fink\n",
    "#   Software complementario acompañando al texto:\n",
    "#   METODOS NUMERICOS con Matlab, Cuarta Edicion\n",
    "#   ISBN: 0-13-065248-2\n",
    "#   Prentice-Hall Pub. Inc.\n",
    "#   One Lake Street\n",
    "#   Upper Saddle River, NJ 07458\n",
    "\n",
    "    n = len(X)\n",
    "    D = np.zeros((n, n))\n",
    "    D[:, 1] = Y\n",
    "\n",
    "    # --- Tú código aquí! --- #\n",
    "   \n",
    "    return C, D"
   ]
  }
 ],
 "metadata": {
  "kernelspec": {
   "display_name": "Python 3",
   "language": "python",
   "name": "python3"
  },
  "language_info": {
   "codemirror_mode": {
    "name": "ipython",
    "version": 3
   },
   "file_extension": ".py",
   "mimetype": "text/x-python",
   "name": "python",
   "nbconvert_exporter": "python",
   "pygments_lexer": "ipython3",
   "version": "3.11.2"
  },
  "orig_nbformat": 4,
  "vscode": {
   "interpreter": {
    "hash": "f842b7c9fc4488d750fc59e32cd6eaf693cb529c1360390aefdc7720cc6bd6de"
   }
  }
 },
 "nbformat": 4,
 "nbformat_minor": 2
}
