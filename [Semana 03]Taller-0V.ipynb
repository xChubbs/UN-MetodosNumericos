{
 "cells": [
  {
   "attachments": {},
   "cell_type": "markdown",
   "metadata": {},
   "source": [
    "# Taller 02: Manejo de Python\n",
    "## Métodos Numéricos\n",
    "\n",
    "Brevemente repasaremos los conceptos de Newton y Newton modificado\n",
    "\n"
   ]
  },
  {
   "cell_type": "code",
   "execution_count": 41,
   "metadata": {},
   "outputs": [],
   "source": [
    "# Importamos la libreria numpy, y los elementos que necesitamos\n",
    "from numpy import sin, cos"
   ]
  },
  {
   "attachments": {},
   "cell_type": "markdown",
   "metadata": {},
   "source": [
    "## Newton y extensiones\n",
    "Brevemente crearemos el método de Newton, y verificaremos su funcionamiento.\n",
    "- **Pendiente:** Método para Newton Modificado."
   ]
  },
  {
   "cell_type": "code",
   "execution_count": 9,
   "metadata": {},
   "outputs": [],
   "source": [
    "# Creamos el método de Newton\n",
    "def newton(f, df, p0, delta, epsilon, max1):\n",
    "\n",
    "    \"\"\"\n",
    "    Entrada - f funcion creada con @\n",
    "            - df funcion derivada creada con @\n",
    "            - p0 es la aproximacion inicial a cero de  f\n",
    "            - delta es la tolerancia para  p0\n",
    "            - epsilon es la tolerancia para los valores de la funcion  y\n",
    "            - max1 es el numero maximo de iteraciones\n",
    "    Salida  - p0 es la aproximacion de Newton-Raphson hacia cero\n",
    "            - err es el error estimado para  p0\n",
    "            - k es el numero de iteraciones\n",
    "            - y es el valor de la funcion  f(p0)\n",
    "    \"\"\"\n",
    "\n",
    "    for k in range(1, max1 +1):\n",
    "\n",
    "        p1 = p0 - f(p0) / df(p0)\n",
    "\n",
    "        err = abs(p1 - p0)\n",
    "        relerr = 2 * err /(abs(p1) + delta)\n",
    "\n",
    "        p0 = p1\n",
    "        y = f(p0)\n",
    "\n",
    "        if (err < delta) or (relerr < delta) or (abs(y) < epsilon):\n",
    "            break\n",
    "\n",
    "    return p0, err, k, y"
   ]
  },
  {
   "cell_type": "code",
   "execution_count": 39,
   "metadata": {},
   "outputs": [
    {
     "name": "stdout",
     "output_type": "stream",
     "text": [
      "La aproximación es: 1.895494258862328, y tomamos 24 iteraciones, con error 1.4561147843039635e-08\n"
     ]
    }
   ],
   "source": [
    "# Declaramos la función y su derivada respecitivamente\n",
    "f = lambda x : x**2 - 4 * x * sin(x) + (2 * sin(x))**2\n",
    "df = lambda x : 2 * x - 4 * x*cos(x) - 4*sin(x) + 8 * sin(x)*cos(x)\n",
    "\n",
    "# Llamamos al método de newton, y comparamos con MATLAB\n",
    "p0, err, k, y = newton(f, df, 1.5, 1e-15, 1e-15, 100)\n",
    "\n",
    "# Imprimimos resultados\n",
    "print(f\"La aproximación es: {p0}, y tomamos {k} iteraciones, con error {err}\")"
   ]
  },
  {
   "attachments": {},
   "cell_type": "markdown",
   "metadata": {},
   "source": [
    "- Verifiquemos el rendimiento entre el software MATLAB y el lenguaje Python."
   ]
  },
  {
   "cell_type": "code",
   "execution_count": 40,
   "metadata": {},
   "outputs": [
    {
     "name": "stdout",
     "output_type": "stream",
     "text": [
      "215 µs ± 3.92 µs per loop (mean ± std. dev. of 7 runs, 1,000 loops each)\n"
     ]
    }
   ],
   "source": [
    "%timeit newton(f, df, 1.5, 1e-15, 1e-15, 100)"
   ]
  },
  {
   "attachments": {},
   "cell_type": "markdown",
   "metadata": {},
   "source": [
    "Veamos que en MATLAB la ejecución del método toma alrededor de 0.03 seg, en cambio python para la ejecución del código escrito anteriormente toma 215useg, una diferencia amplia de rendiemiento"
   ]
  },
  {
   "attachments": {},
   "cell_type": "markdown",
   "metadata": {},
   "source": [
    "## Matrices y uso de numpy\n",
    "Veamos los comandos básicos de numpy, y los usos que podemos emplear para el curso"
   ]
  },
  {
   "cell_type": "code",
   "execution_count": 43,
   "metadata": {},
   "outputs": [],
   "source": [
    "#Importamos numpy\n",
    "import numpy as np"
   ]
  },
  {
   "cell_type": "code",
   "execution_count": 92,
   "metadata": {},
   "outputs": [
    {
     "name": "stdout",
     "output_type": "stream",
     "text": [
      "[1, 2, 3, 1, 2, 3, 1, 2, 3]\n"
     ]
    }
   ],
   "source": [
    "# Definamos una lista, y verifiquemos que NO es un vector\n",
    "x = [1, 2, 3]\n",
    "print(x * 3)"
   ]
  },
  {
   "cell_type": "code",
   "execution_count": 94,
   "metadata": {},
   "outputs": [
    {
     "name": "stdout",
     "output_type": "stream",
     "text": [
      "[2 3 4]\n"
     ]
    }
   ],
   "source": [
    "# Los vectores toman forma de Arrays\n",
    "x = np.array([1, 2, 3])\n",
    "\n",
    "print(x + 1)"
   ]
  },
  {
   "cell_type": "code",
   "execution_count": 95,
   "metadata": {},
   "outputs": [
    {
     "name": "stdout",
     "output_type": "stream",
     "text": [
      "[[ 4.  5.  6.]\n",
      " [ 7.  8.  9.]\n",
      " [10. 11. 12.]]\n"
     ]
    }
   ],
   "source": [
    "# Y naturalmente las matrices toman forma de vectores de vectores\n",
    "x = np.array([[1, 2, 3], [4, 5, 6],[7, 8, 9]])\n",
    "y = 3 * np.ones(x.shape)\n",
    "print(x + y)"
   ]
  },
  {
   "cell_type": "code",
   "execution_count": 97,
   "metadata": {},
   "outputs": [
    {
     "name": "stdout",
     "output_type": "stream",
     "text": [
      "[[ 3.  6.  9.]\n",
      " [12. 15. 18.]\n",
      " [21. 24. 27.]]\n"
     ]
    }
   ],
   "source": [
    "# La multiplicación matricial toma formas distintas\n",
    "print(x * y)    # Multiplicación de elementos"
   ]
  },
  {
   "cell_type": "code",
   "execution_count": 98,
   "metadata": {},
   "outputs": [
    {
     "name": "stdout",
     "output_type": "stream",
     "text": [
      "[[18. 18. 18.]\n",
      " [45. 45. 45.]\n",
      " [72. 72. 72.]]\n"
     ]
    }
   ],
   "source": [
    "print(x @ y)    # Multiplicación matricial"
   ]
  },
  {
   "attachments": {},
   "cell_type": "markdown",
   "metadata": {},
   "source": [
    "- Veamos algunos métodos que toman los arrays"
   ]
  },
  {
   "cell_type": "code",
   "execution_count": 102,
   "metadata": {},
   "outputs": [
    {
     "data": {
      "text/plain": [
       "array([[1., 1., 1.],\n",
       "       [1., 1., 1.],\n",
       "       [1., 1., 1.]])"
      ]
     },
     "execution_count": 102,
     "metadata": {},
     "output_type": "execute_result"
    }
   ],
   "source": [
    "# Matrices comunes:\n",
    "np.ones((3, 3))     # Matriz de unos"
   ]
  },
  {
   "cell_type": "code",
   "execution_count": 103,
   "metadata": {},
   "outputs": [
    {
     "data": {
      "text/plain": [
       "array([[0., 0., 0.],\n",
       "       [0., 0., 0.],\n",
       "       [0., 0., 0.]])"
      ]
     },
     "execution_count": 103,
     "metadata": {},
     "output_type": "execute_result"
    }
   ],
   "source": [
    "np.zeros((3, 3))    # Matriz de ceros\n"
   ]
  },
  {
   "cell_type": "code",
   "execution_count": 104,
   "metadata": {},
   "outputs": [
    {
     "data": {
      "text/plain": [
       "array([[1., 0., 0.],\n",
       "       [0., 1., 0.],\n",
       "       [0., 0., 1.]])"
      ]
     },
     "execution_count": 104,
     "metadata": {},
     "output_type": "execute_result"
    }
   ],
   "source": [
    "np.eye(3)           # Matriz Identidad"
   ]
  },
  {
   "cell_type": "code",
   "execution_count": 105,
   "metadata": {},
   "outputs": [
    {
     "data": {
      "text/plain": [
       "(3, 3)"
      ]
     },
     "execution_count": 105,
     "metadata": {},
     "output_type": "execute_result"
    }
   ],
   "source": [
    "# Métodos básicos de matrices\n",
    "x.shape     # Forma de la matriz (Fila, Columna)         "
   ]
  },
  {
   "cell_type": "code",
   "execution_count": 106,
   "metadata": {},
   "outputs": [
    {
     "data": {
      "text/plain": [
       "array([2, 5, 8])"
      ]
     },
     "execution_count": 106,
     "metadata": {},
     "output_type": "execute_result"
    }
   ],
   "source": [
    "x[:, 1]     # Slicing de regiones de la matriz"
   ]
  }
 ],
 "metadata": {
  "kernelspec": {
   "display_name": "Python 3",
   "language": "python",
   "name": "python3"
  },
  "language_info": {
   "codemirror_mode": {
    "name": "ipython",
    "version": 3
   },
   "file_extension": ".py",
   "mimetype": "text/x-python",
   "name": "python",
   "nbconvert_exporter": "python",
   "pygments_lexer": "ipython3",
   "version": "3.11.2"
  },
  "orig_nbformat": 4,
  "vscode": {
   "interpreter": {
    "hash": "f842b7c9fc4488d750fc59e32cd6eaf693cb529c1360390aefdc7720cc6bd6de"
   }
  }
 },
 "nbformat": 4,
 "nbformat_minor": 2
}
