{
 "cells": [
  {
   "attachments": {},
   "cell_type": "markdown",
   "metadata": {},
   "source": [
    "# Taller 04: Manejo de Python\n",
    "## Métodos Numéricos\n",
    "\n",
    "Brevemente repasaremos de matrices en Numpy y los métodos matriciales\n",
    "\n"
   ]
  },
  {
   "attachments": {},
   "cell_type": "markdown",
   "metadata": {},
   "source": [
    "## Algunas consideraciones en NUMPY\n",
    "Verifiquemos el uso de matrices en python antes de comenzar"
   ]
  },
  {
   "cell_type": "code",
   "execution_count": 1,
   "metadata": {},
   "outputs": [],
   "source": [
    "# Importamos la libreria numpy, y los elementos que necesitamos\n",
    "import numpy as np\n",
    "import numpy.linalg as la"
   ]
  },
  {
   "cell_type": "code",
   "execution_count": 2,
   "metadata": {},
   "outputs": [
    {
     "data": {
      "text/plain": [
       "array([1, 2, 3])"
      ]
     },
     "execution_count": 2,
     "metadata": {},
     "output_type": "execute_result"
    }
   ],
   "source": [
    "# Definición de un vector\n",
    "vector = np.array([1, 2, 3])\n",
    "\n",
    "# Trasposición y transpuesta de un vector\n",
    "vector.T"
   ]
  },
  {
   "cell_type": "code",
   "execution_count": 3,
   "metadata": {},
   "outputs": [
    {
     "data": {
      "text/plain": [
       "(array([[ 1,  2,  9],\n",
       "        [ 2,  3, 10],\n",
       "        [ 3,  5,  2]]),\n",
       " array([[ 1,  2,  3],\n",
       "        [ 2,  3,  5],\n",
       "        [ 9, 10,  2]]))"
      ]
     },
     "execution_count": 3,
     "metadata": {},
     "output_type": "execute_result"
    }
   ],
   "source": [
    "# Definición de matrices\n",
    "matriz = np.array([[1, 2, 3], [2, 3, 5], [9, 10, 2]])\n",
    "\n",
    "# Matrices y traspuesta de una matriz\n",
    "matriz.T, matriz"
   ]
  },
  {
   "cell_type": "code",
   "execution_count": 4,
   "metadata": {},
   "outputs": [
    {
     "data": {
      "text/plain": [
       "array([14, 23, 35])"
      ]
     },
     "execution_count": 4,
     "metadata": {},
     "output_type": "execute_result"
    }
   ],
   "source": [
    "# Multiplicación matricial entre matrices y vectores\n",
    "matriz @ vector"
   ]
  },
  {
   "cell_type": "code",
   "execution_count": 5,
   "metadata": {},
   "outputs": [
    {
     "data": {
      "text/plain": [
       "1.0"
      ]
     },
     "execution_count": 5,
     "metadata": {},
     "output_type": "execute_result"
    }
   ],
   "source": [
    "# Normas en Numpy\n",
    "la.norm(vector, -np.inf)"
   ]
  },
  {
   "cell_type": "code",
   "execution_count": 6,
   "metadata": {},
   "outputs": [
    {
     "data": {
      "text/plain": [
       "(array([11.96774691, -0.24836323, -5.71938368]),\n",
       " array([[-0.31226591, -0.71672364, -0.25539911],\n",
       "        [-0.51480202,  0.67990711, -0.43620265],\n",
       "        [-0.79841648, -0.15502759,  0.86284329]]))"
      ]
     },
     "execution_count": 6,
     "metadata": {},
     "output_type": "execute_result"
    }
   ],
   "source": [
    "# Valores propios de una matriz\n",
    "la.eig(matriz)"
   ]
  },
  {
   "cell_type": "code",
   "execution_count": 7,
   "metadata": {},
   "outputs": [
    {
     "data": {
      "text/plain": [
       "array([1, 3, 2])"
      ]
     },
     "execution_count": 7,
     "metadata": {},
     "output_type": "execute_result"
    }
   ],
   "source": [
    "# Definición de las submatrices de un sistema: Diagonal\n",
    "np.diag(matriz)"
   ]
  },
  {
   "cell_type": "code",
   "execution_count": 8,
   "metadata": {},
   "outputs": [
    {
     "data": {
      "text/plain": [
       "array([[0, 2, 3],\n",
       "       [0, 0, 5],\n",
       "       [0, 0, 0]])"
      ]
     },
     "execution_count": 8,
     "metadata": {},
     "output_type": "execute_result"
    }
   ],
   "source": [
    "# Definición de las submatrices de un sistema: triangular superior\n",
    "np.triu(matriz, 1)"
   ]
  },
  {
   "attachments": {},
   "cell_type": "markdown",
   "metadata": {},
   "source": [
    "## Método de Jacobi\n",
    "Definamos el método y comparemos los resultados con los obtenidos en MATLAB"
   ]
  },
  {
   "cell_type": "code",
   "execution_count": 9,
   "metadata": {},
   "outputs": [],
   "source": [
    "def jacobi(A, b, X0, delta, maxI):\n",
    "\n",
    "    # Entrada  - A es una matriz no singular  N x N\n",
    "    #          - B es una matriz  N x 1\n",
    "    #          - P es una matriz  N x 1; los supuestos iniciales\n",
    "    #\t       - delta es la tolerancia para  P\n",
    "    #\t       - max1 es el numero maximo de iteraciones\n",
    "    # Salida   - X es una matriz  N x 1: la aproximacion de jacobi a\n",
    "    #\t         la solucion de  AX = B\n",
    "\n",
    "    #  METODOS NUMERICOS: Programas en Matlab\n",
    "    # (c) 2004 por John H. Mathews y Kurtis D. Fink\n",
    "    #  Software complementario acompañando al texto:\n",
    "    #  METODOS NUMERICOS con Matlab, Cuarta Edicion\n",
    "    #  ISBN: 0-13-065248-2\n",
    "    #  Prentice-Hall Pub. Inc.\n",
    "    #  One Lake Street\n",
    "    #  Upper Saddle River, NJ 07458\n",
    "\n",
    "    D = np.diag(np.diag(A))\n",
    "    L = -np.tril(A, -1)\n",
    "    U = -np.triu(A, 1)\n",
    "\n",
    "    TJ = la.inv(D) @ (L + U)\n",
    "    CJ = la.inv(D) @ b\n",
    "\n",
    "    for k in range(1, maxI +1):\n",
    "\n",
    "        X = TJ @ X0 + CJ\n",
    "\n",
    "        err = abs(la.norm(X - X0))\n",
    "        rerr = err / (la.norm(X) + delta)\n",
    "\n",
    "        X0 = X\n",
    "\n",
    "        if err < delta or rerr < delta: break\n",
    "\n",
    "\n",
    "    return X, err, rerr, k"
   ]
  },
  {
   "cell_type": "code",
   "execution_count": 10,
   "metadata": {},
   "outputs": [
    {
     "name": "stdout",
     "output_type": "stream",
     "text": [
      "Se requierieron 37 iteraciones y se obtuvo un error de:  4.444211564840654e-16\n"
     ]
    }
   ],
   "source": [
    "# Definamos las variables del sistema\n",
    "A = np.array([[3, 1, -1], [-1, 4, 1], [-1, 2, 5]])      # Matriz de coeficientes de sistema\n",
    "b = np.array([-1, 3, 2])                                # Vector de valores independientes del sistema\n",
    "X0 = np.array([1, -1, -1])                              # Aproximación inicial\n",
    "\n",
    "X, err, rerr, k = jacobi(A, b, X0, 1e-15, 1000)         # Aplicación del método\n",
    "\n",
    "print(f\"Se requierieron {k} iteraciones y se obtuvo un error de: {rerr : 2}\")"
   ]
  },
  {
   "cell_type": "code",
   "execution_count": 11,
   "metadata": {},
   "outputs": [
    {
     "name": "stdout",
     "output_type": "stream",
     "text": [
      "607 µs ± 37.8 µs per loop (mean ± std. dev. of 7 runs, 1,000 loops each)\n"
     ]
    }
   ],
   "source": [
    "%timeit jacobi(A, b, X0, 1e-15, 1000)       # Tiempos de ejecución del método"
   ]
  },
  {
   "cell_type": "code",
   "execution_count": 12,
   "metadata": {},
   "outputs": [
    {
     "data": {
      "text/plain": [
       "6.661338147750939e-16"
      ]
     },
     "execution_count": 12,
     "metadata": {},
     "output_type": "execute_result"
    }
   ],
   "source": [
    "residual = A @ X - b        # Residual de la aproximación\n",
    "la.norm(residual)           # Norma euclideana del residual"
   ]
  },
  {
   "attachments": {},
   "cell_type": "markdown",
   "metadata": {},
   "source": [
    "## Actividad: Haz tu propio código\n",
    "Completa el código asociado al método de SOR, y verifica los resultados que obtuvimos en matlab tomando omega como 1, que es el caso en que SOR es equivalente al método Gauss-Seidel"
   ]
  },
  {
   "cell_type": "code",
   "execution_count": 13,
   "metadata": {},
   "outputs": [],
   "source": [
    "def sor(A, b, X0, w, delta, maxI):\n",
    "\n",
    "    # Entrada  - A es una matriz no singular  N x N\n",
    "    #          - B es una matriz  N x 1\n",
    "    #          - P es una matriz  N x 1; el supuesto inicial\n",
    "    #          - w parametro de sobrerelajacion (0<w<2)\n",
    "    #\t       - delta es la tolerancia para  P\n",
    "    #\t       - max1 es el numero maximo de iteraciones\n",
    "    # Salida   - Y es una matriz  N x 1: la aproximacion de SOR a\n",
    "    #\t         la solucion de  AX = B\n",
    "\n",
    "    #  METODOS NUMERICOS: Programas en Matlab\n",
    "    # (c) 2004 por John H. Mathews y Kurtis D. Fink\n",
    "    #  Software complementario acompañando al texto:\n",
    "    #  METODOS NUMERICOS con Matlab, Cuarta Edicion\n",
    "    #  ISBN: 0-13-065248-2\n",
    "    #  Prentice-Hall Pub. Inc.\n",
    "    #  One Lake Street\n",
    "    #  Upper Saddle River, NJ 07458\n",
    "\n",
    "    D = np.diag(np.diag(A))\n",
    "    L = -np.tril(A, -1)\n",
    "    U = -np.triu(A, 1)\n",
    "\n",
    "    # --- Tú código aquí! --- #\n",
    "\n",
    "    for k in range(1, maxI +1):\n",
    "\n",
    "        # --- Tú código aquí! --- #\n",
    "\n",
    "        err = abs(la.norm(X - X0))\n",
    "        rerr = err / (la.norm(X) + delta)\n",
    "\n",
    "        X0 = X\n",
    "\n",
    "        if err < delta or rerr < delta: break\n",
    "\n",
    "\n",
    "    return X, err, rerr, k"
   ]
  }
 ],
 "metadata": {
  "kernelspec": {
   "display_name": "Python 3",
   "language": "python",
   "name": "python3"
  },
  "language_info": {
   "codemirror_mode": {
    "name": "ipython",
    "version": 3
   },
   "file_extension": ".py",
   "mimetype": "text/x-python",
   "name": "python",
   "nbconvert_exporter": "python",
   "pygments_lexer": "ipython3",
   "version": "3.11.2"
  },
  "orig_nbformat": 4,
  "vscode": {
   "interpreter": {
    "hash": "f842b7c9fc4488d750fc59e32cd6eaf693cb529c1360390aefdc7720cc6bd6de"
   }
  }
 },
 "nbformat": 4,
 "nbformat_minor": 2
}
