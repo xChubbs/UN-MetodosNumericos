{
 "cells": [
  {
   "attachments": {},
   "cell_type": "markdown",
   "metadata": {},
   "source": [
    "# Taller 03: Manejo de Python\n",
    "## Métodos Numéricos\n",
    "\n",
    "Brevemente repasaremos los conceptos de Newton y Newton modificado\n",
    "\n"
   ]
  },
  {
   "cell_type": "code",
   "execution_count": 38,
   "metadata": {},
   "outputs": [],
   "source": [
    "# Importamos la libreria numpy, y los elementos que necesitamos\n",
    "import numpy as np\n",
    "import numpy.linalg as la"
   ]
  },
  {
   "cell_type": "code",
   "execution_count": 14,
   "metadata": {},
   "outputs": [
    {
     "data": {
      "text/plain": [
       "array([1, 2, 3])"
      ]
     },
     "execution_count": 14,
     "metadata": {},
     "output_type": "execute_result"
    }
   ],
   "source": [
    "vector = np.array([1, 2, 3])\n",
    "\n",
    "vector.T"
   ]
  },
  {
   "cell_type": "code",
   "execution_count": 16,
   "metadata": {},
   "outputs": [
    {
     "data": {
      "text/plain": [
       "(array([[ 1,  2,  9],\n",
       "        [ 2,  3, 10],\n",
       "        [ 3,  5,  2]]),\n",
       " array([[ 1,  2,  3],\n",
       "        [ 2,  3,  5],\n",
       "        [ 9, 10,  2]]))"
      ]
     },
     "execution_count": 16,
     "metadata": {},
     "output_type": "execute_result"
    }
   ],
   "source": [
    "matriz = np.array([[1, 2, 3], [2, 3, 5], [9, 10, 2]])\n",
    "\n",
    "matriz.T, matriz"
   ]
  },
  {
   "cell_type": "code",
   "execution_count": 19,
   "metadata": {},
   "outputs": [
    {
     "data": {
      "text/plain": [
       "array([14, 23, 35])"
      ]
     },
     "execution_count": 19,
     "metadata": {},
     "output_type": "execute_result"
    }
   ],
   "source": [
    "matriz @ vector"
   ]
  },
  {
   "cell_type": "code",
   "execution_count": 39,
   "metadata": {},
   "outputs": [
    {
     "data": {
      "text/plain": [
       "1.0"
      ]
     },
     "execution_count": 39,
     "metadata": {},
     "output_type": "execute_result"
    }
   ],
   "source": [
    "la.norm(vector, -np.inf)"
   ]
  },
  {
   "cell_type": "code",
   "execution_count": 40,
   "metadata": {},
   "outputs": [
    {
     "data": {
      "text/plain": [
       "(array([11.96774691, -0.24836323, -5.71938368]),\n",
       " array([[-0.31226591, -0.71672364, -0.25539911],\n",
       "        [-0.51480202,  0.67990711, -0.43620265],\n",
       "        [-0.79841648, -0.15502759,  0.86284329]]))"
      ]
     },
     "execution_count": 40,
     "metadata": {},
     "output_type": "execute_result"
    }
   ],
   "source": [
    "la.eig(matriz)"
   ]
  },
  {
   "cell_type": "code",
   "execution_count": 42,
   "metadata": {},
   "outputs": [
    {
     "data": {
      "text/plain": [
       "array([1, 3, 2])"
      ]
     },
     "execution_count": 42,
     "metadata": {},
     "output_type": "execute_result"
    }
   ],
   "source": [
    "np.diag(matriz)"
   ]
  },
  {
   "cell_type": "code",
   "execution_count": 44,
   "metadata": {},
   "outputs": [
    {
     "data": {
      "text/plain": [
       "array([[0, 2, 3],\n",
       "       [0, 0, 5],\n",
       "       [0, 0, 0]])"
      ]
     },
     "execution_count": 44,
     "metadata": {},
     "output_type": "execute_result"
    }
   ],
   "source": [
    "np.triu(matriz, 1)"
   ]
  },
  {
   "cell_type": "code",
   "execution_count": 61,
   "metadata": {},
   "outputs": [],
   "source": [
    "def jacobi(A, b, X0, delta, maxI):\n",
    "\n",
    "    # Entrada  - A es una matriz no singular  N x N\n",
    "    #          - B es una matriz  N x 1\n",
    "    #          - P es una matriz  N x 1; los supuestos iniciales\n",
    "    #\t       - delta es la tolerancia para  P\n",
    "    #\t       - max1 es el numero maximo de iteraciones\n",
    "    # Salida   - X es una matriz  N x 1: la aproximacion de jacobi a\n",
    "    #\t         la solucion de  AX = B\n",
    "\n",
    "    #  METODOS NUMERICOS: Programas en Matlab\n",
    "    # (c) 2004 por John H. Mathews y Kurtis D. Fink\n",
    "    #  Software complementario acompañando al texto:\n",
    "    #  METODOS NUMERICOS con Matlab, Cuarta Edicion\n",
    "    #  ISBN: 0-13-065248-2\n",
    "    #  Prentice-Hall Pub. Inc.\n",
    "    #  One Lake Street\n",
    "    #  Upper Saddle River, NJ 07458\n",
    "\n",
    "    D = np.diag(np.diag(A))\n",
    "    L = -np.tril(A, -1)\n",
    "    U = -np.triu(A, 1)\n",
    "\n",
    "    TJ = la.inv(D) @ (L + U)\n",
    "    CJ = la.inv(D) @ b\n",
    "\n",
    "    for k in range(1, maxI +1):\n",
    "\n",
    "        X = TJ @ X0 + CJ\n",
    "\n",
    "        err = abs(la.norm(X - X0))\n",
    "        rerr = err / (la.norm(X) + delta)\n",
    "\n",
    "        X0 = X\n",
    "\n",
    "        if err < delta or rerr < delta: break\n",
    "\n",
    "\n",
    "    return X, err, rerr, k"
   ]
  },
  {
   "cell_type": "code",
   "execution_count": 63,
   "metadata": {},
   "outputs": [
    {
     "name": "stdout",
     "output_type": "stream",
     "text": [
      "Se requierieron 37 iteraciones y se obtuvo un error de:  4.44421156484066e-16\n"
     ]
    }
   ],
   "source": [
    "A = np.array([[3, 1, -1], [-1, 4, 1], [-1, 2, 5]])\n",
    "b = np.array([-1, 3, 2])\n",
    "X0 = np.array([1, -1, -1])\n",
    "\n",
    "X, err, rerr, k = jacobi(A, b, X0, 1e-15, 1000)\n",
    "\n",
    "print(f\"Se requierieron {k} iteraciones y se obtuvo un error de: {rerr : 2}\")"
   ]
  },
  {
   "cell_type": "code",
   "execution_count": 56,
   "metadata": {},
   "outputs": [
    {
     "name": "stdout",
     "output_type": "stream",
     "text": [
      "646 µs ± 42.3 µs per loop (mean ± std. dev. of 7 runs, 1,000 loops each)\n"
     ]
    }
   ],
   "source": [
    "%timeit jacobi(A, b, X0, 1e-15, 1000)"
   ]
  }
 ],
 "metadata": {
  "kernelspec": {
   "display_name": "Python 3",
   "language": "python",
   "name": "python3"
  },
  "language_info": {
   "codemirror_mode": {
    "name": "ipython",
    "version": 3
   },
   "file_extension": ".py",
   "mimetype": "text/x-python",
   "name": "python",
   "nbconvert_exporter": "python",
   "pygments_lexer": "ipython3",
   "version": "3.11.2"
  },
  "orig_nbformat": 4,
  "vscode": {
   "interpreter": {
    "hash": "f842b7c9fc4488d750fc59e32cd6eaf693cb529c1360390aefdc7720cc6bd6de"
   }
  }
 },
 "nbformat": 4,
 "nbformat_minor": 2
}
